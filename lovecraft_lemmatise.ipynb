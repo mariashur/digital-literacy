{
 "cells": [
  {
   "cell_type": "code",
   "execution_count": 20,
   "metadata": {},
   "outputs": [
    {
     "ename": "SyntaxError",
     "evalue": "(unicode error) 'unicodeescape' codec can't decode bytes in position 2-3: truncated \\UXXXXXXXX escape (<ipython-input-20-ca8eea93e963>, line 6)",
     "output_type": "error",
     "traceback": [
      "\u001b[1;36m  File \u001b[1;32m\"<ipython-input-20-ca8eea93e963>\"\u001b[1;36m, line \u001b[1;32m6\u001b[0m\n\u001b[1;33m    for story in os.listdir(\"C:\\Users\\maria.DESKTOP-OVDQUT6\\Desktop\\docs\\dighum\\gaiman\\doyle\"):\u001b[0m\n\u001b[1;37m                           ^\u001b[0m\n\u001b[1;31mSyntaxError\u001b[0m\u001b[1;31m:\u001b[0m (unicode error) 'unicodeescape' codec can't decode bytes in position 2-3: truncated \\UXXXXXXXX escape\n"
     ]
    }
   ],
   "source": [
    "import os\n",
    "import spacy\n",
    "sp = spacy.load('en_core_web_sm')           #функция лемматизации\n",
    "\n",
    "\n",
    "for story in os.listdir(\"C:\\Users\\maria.DESKTOP-OVDQUT6\\Desktop\\docs\\dighum\\gaiman\\doyle\"):\n",
    "    if story.endswith(\".txt\"):                   #беру только txt\n",
    "        Outfile = open('lemma_'+ story,\"w\")\n",
    "        f = open(story,\"r\")\n",
    "        string = sp(f.read())\n",
    "        for word in string:\n",
    "            Outfile.write(word.lemma_)\n",
    "            Outfile.write(\" \") \n",
    "    Outfile.close() \n",
    "            "
   ]
  },
  {
   "cell_type": "code",
   "execution_count": 19,
   "metadata": {},
   "outputs": [
    {
     "name": "stdout",
     "output_type": "stream",
     "text": [
      "lemma_lovecraft_At_the_Mountains_of_Madness.txt\n",
      "lemma_lovecraft_Azathoth.txt\n",
      "lemma_lovecraft_Celephais.txt\n",
      "lemma_lovecraft_History_of_the_Necronomicon.txt\n",
      "lemma_lovecraft_The_dunwich_terror.txt\n",
      "lemma_lovecraft__Beyond_the_Wall_of_Sleep.txt\n",
      "lovecraft_At_the_Mountains_of_Madness.txt\n",
      "lovecraft_Azathoth.txt\n",
      "lovecraft_Celephais.txt\n",
      "lovecraft_History_of_the_Necronomicon.txt\n",
      "lovecraft_The_dunwich_terror.txt\n",
      "lovecraft__Beyond_the_Wall_of_Sleep.txt\n"
     ]
    }
   ],
   "source": [
    "import os\n",
    "import spacy\n",
    "sp = spacy.load('en_core_web_sm')           #функция лемматизации\n",
    "\n",
    "\n",
    "for story in os.listdir(\".\"):\n",
    "    if story.endswith(\".txt\"): \n",
    "        print(story)"
   ]
  }
 ],
 "metadata": {
  "kernelspec": {
   "display_name": "Python 3",
   "language": "python",
   "name": "python3"
  },
  "language_info": {
   "codemirror_mode": {
    "name": "ipython",
    "version": 3
   },
   "file_extension": ".py",
   "mimetype": "text/x-python",
   "name": "python",
   "nbconvert_exporter": "python",
   "pygments_lexer": "ipython3",
   "version": "3.6.4"
  }
 },
 "nbformat": 4,
 "nbformat_minor": 2
}
