{
 "cells": [
  {
   "cell_type": "code",
   "execution_count": 4,
   "metadata": {},
   "outputs": [],
   "source": [
    "import os\n",
    "import spacy\n",
    "sp = spacy.load('en_core_web_sm')           #функция лемматизации\n",
    "\n",
    "\n",
    "for story in os.listdir(\".\"):\n",
    "    if story.endswith(\".txt\"):                   #беру только txt\n",
    "        Outfile = open('lemma_'+ story,\"w\")\n",
    "        f = open(story,\"r\")\n",
    "        string = sp(f.read())\n",
    "        for word in string:\n",
    "            Outfile.write(word.lemma_)\n",
    "            Outfile.write(\" \") \n",
    "        Outfile.close() \n",
    "            "
   ]
  },
  {
   "cell_type": "code",
   "execution_count": 1,
   "metadata": {},
   "outputs": [
    {
     "name": "stdout",
     "output_type": "stream",
     "text": [
      "Doyle_ A_SCANDAL_IN_BOHEMIA.txt\n",
      "Doyle_hound_of_the_baskervilles.txt\n",
      "Doyle_sign_of_the_four.txt\n",
      "Doyle_THE_VALLEY_OF_FEAR.txt\n"
     ]
    }
   ],
   "source": [
    "import os\n",
    "for story in os.listdir(\".\"):\n",
    "    if story.endswith(\".txt\"):\n",
    "        print(story)"
   ]
  }
 ],
 "metadata": {
  "kernelspec": {
   "display_name": "Python 3",
   "language": "python",
   "name": "python3"
  },
  "language_info": {
   "codemirror_mode": {
    "name": "ipython",
    "version": 3
   },
   "file_extension": ".py",
   "mimetype": "text/x-python",
   "name": "python",
   "nbconvert_exporter": "python",
   "pygments_lexer": "ipython3",
   "version": "3.6.4"
  }
 },
 "nbformat": 4,
 "nbformat_minor": 2
}
